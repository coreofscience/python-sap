{
 "cells": [
  {
   "cell_type": "markdown",
   "metadata": {},
   "source": [
    "# Algoritmo SAP"
   ]
  },
  {
   "cell_type": "markdown",
   "metadata": {},
   "source": [
    "### 1. From the subset of papers $V$, which is obtained from WoS, a directed graph $G = \\left(V, E\\right)$, with all the papers and references, is generated, where each directed edge $\\left(i, j\\right)$ or $E$ is a citation from paper $p_i$ to $p_j$:\n",
    "$$p_i \\rightarrow p_j$$"
   ]
  },
  {
   "cell_type": "markdown",
   "metadata": {},
   "source": [
    "#### Importo librerías"
   ]
  },
  {
   "cell_type": "code",
   "execution_count": 146,
   "metadata": {},
   "outputs": [],
   "source": [
    "import igraph\n",
    "from itertools import chain\n",
    "from wostools import CollectionLazy\n",
    "import numpy\n",
    "from datetime import datetime"
   ]
  },
  {
   "cell_type": "markdown",
   "metadata": {},
   "source": [
    "#### Por medio de la librería *wostools*, leemos el archivo ISI que nos devuelve WOS y extraemos los *citation_pairs*"
   ]
  },
  {
   "cell_type": "code",
   "execution_count": 147,
   "metadata": {},
   "outputs": [],
   "source": [
    "collection = CollectionLazy.from_filenames(\"savedrecs.txt\")\n",
    "pairs = list(collection.citation_pairs())"
   ]
  },
  {
   "cell_type": "markdown",
   "metadata": {},
   "source": [
    "#### Creamos la lista de nodos basados en los artículos contenidos en los *pairs*"
   ]
  },
  {
   "cell_type": "code",
   "execution_count": 148,
   "metadata": {},
   "outputs": [],
   "source": [
    "nodes = list(set(chain.from_iterable(pairs)))"
   ]
  },
  {
   "cell_type": "markdown",
   "metadata": {},
   "source": [
    "#### Construimos el grafo **dirigido** y creamos los vértices (nodos):"
   ]
  },
  {
   "cell_type": "code",
   "execution_count": 149,
   "metadata": {},
   "outputs": [
    {
     "name": "stdout",
     "output_type": "stream",
     "text": [
      "IGRAPH DN-- 11228 0 --\n",
      "+ attr: name (v)\n"
     ]
    }
   ],
   "source": [
    "graph = igraph.Graph(directed=True)\n",
    "graph.add_vertices(nodes)\n",
    "print(graph)"
   ]
  },
  {
   "cell_type": "markdown",
   "metadata": {},
   "source": [
    "#### Ahora creamos los *edges* usando los *citation_pairs*"
   ]
  },
  {
   "cell_type": "code",
   "execution_count": 150,
   "metadata": {},
   "outputs": [],
   "source": [
    "graph.add_edges(pairs)"
   ]
  },
  {
   "cell_type": "code",
   "execution_count": 151,
   "metadata": {},
   "outputs": [
    {
     "name": "stdout",
     "output_type": "stream",
     "text": [
      "nodes = 11228\n",
      "edges = 16754\n"
     ]
    }
   ],
   "source": [
    "print(\"nodes =\", graph.vcount())\n",
    "print(\"edges =\", graph.ecount())"
   ]
  },
  {
   "cell_type": "markdown",
   "metadata": {},
   "source": [
    "### 2. Graph $G$ is filtered"
   ]
  },
  {
   "cell_type": "markdown",
   "metadata": {},
   "source": [
    "### 2.1 The largest connected component is obtained"
   ]
  },
  {
   "cell_type": "code",
   "execution_count": 152,
   "metadata": {},
   "outputs": [],
   "source": [
    "giant = graph.components(mode=\"weak\").giant()"
   ]
  },
  {
   "cell_type": "markdown",
   "metadata": {},
   "source": [
    "### 2.2 From the graph obtained in (2.1), loops are eliminated.\n",
    "### 2.3 From the graph obtained in (2.2), if there are parallel edges with the same address, only one is selected and the remaining ones are eliminated."
   ]
  },
  {
   "cell_type": "code",
   "execution_count": 153,
   "metadata": {},
   "outputs": [],
   "source": [
    "giant = giant.simplify()"
   ]
  },
  {
   "cell_type": "markdown",
   "metadata": {},
   "source": [
    "### 2.4 From the graph obtained in (2.3), vertices with indegree 1 and outdegree 0 are eliminated along with their endges. The filtered graph obbtained in (2.4) is noted by $G^{\\prime} = \\left(V^{\\prime}, E^{\\prime}\\right)$"
   ]
  },
  {
   "cell_type": "code",
   "execution_count": 154,
   "metadata": {},
   "outputs": [],
   "source": [
    "valid_nodes = giant.vs.select(\n",
    "    lambda node: not(node.indegree() == 1 and node.outdegree() == 0)\n",
    ").indices\n",
    "giant = giant.subgraph(valid_nodes).simplify()"
   ]
  },
  {
   "cell_type": "code",
   "execution_count": 155,
   "metadata": {},
   "outputs": [
    {
     "name": "stdout",
     "output_type": "stream",
     "text": [
      "nodes = 2410\n",
      "edges = 7936\n"
     ]
    }
   ],
   "source": [
    "print(\"nodes =\", giant.vcount())\n",
    "print(\"edges =\", giant.ecount())"
   ]
  },
  {
   "cell_type": "markdown",
   "metadata": {},
   "source": [
    "## 3. Construction of set $V_{\\text{root}}$"
   ]
  },
  {
   "cell_type": "markdown",
   "metadata": {},
   "source": [
    "### 3.1 The edges of $V^{\\prime}$ with outdegree 0 are selected."
   ]
  },
  {
   "cell_type": "code",
   "execution_count": 156,
   "metadata": {},
   "outputs": [],
   "source": [
    "zero_outdegree = giant.vs.select(lambda node: node.outdegree() == 0).indices"
   ]
  },
  {
   "cell_type": "markdown",
   "metadata": {},
   "source": [
    "### 3.2 The vertices obtained in (3.1) are organized in descending order by their degree of entry\n",
    "### 3.3 From the vertices ordered in (3.2), the first 10 are selected"
   ]
  },
  {
   "cell_type": "code",
   "execution_count": 157,
   "metadata": {},
   "outputs": [],
   "source": [
    "nodes_highest_indegree = sorted(giant.vs[zero_outdegree], key=lambda node: node.indegree(), reverse=True)[:10]\n",
    "highest_indegree = [node.index for node in nodes_highest_indegree]"
   ]
  },
  {
   "cell_type": "code",
   "execution_count": 158,
   "metadata": {},
   "outputs": [
    {
     "name": "stdout",
     "output_type": "stream",
     "text": [
      "[46, 42, 41, 33, 33, 30, 30, 20, 20, 20]\n"
     ]
    }
   ],
   "source": [
    "print(giant.vs[highest_indegree].indegree())"
   ]
  },
  {
   "cell_type": "markdown",
   "metadata": {},
   "source": [
    "### 3.4 $V_{\\text{root}}$ is defined as the set of all the vertices selected in (3.3). Those vertices are called **roots**"
   ]
  },
  {
   "cell_type": "markdown",
   "metadata": {},
   "source": [
    "#### Creamos una property *kind* que va almacenar el tipo de los nodos"
   ]
  },
  {
   "cell_type": "code",
   "execution_count": 159,
   "metadata": {},
   "outputs": [],
   "source": [
    "giant.vs[\"kind\"] = None\n",
    "giant.vs[highest_indegree][\"kind\"] = \"root\"\n",
    "roots = nodes_highest_indegree"
   ]
  },
  {
   "cell_type": "markdown",
   "metadata": {},
   "source": [
    "### 3.5 If r is a root, the sap of the r is defined as its indegree."
   ]
  },
  {
   "cell_type": "code",
   "execution_count": 160,
   "metadata": {},
   "outputs": [],
   "source": [
    "sap_root = giant.vs[highest_indegree].indegree()\n",
    "giant.vs[\"sap\"] = None\n",
    "giant.vs[highest_indegree][\"sap\"] = sap_root"
   ]
  },
  {
   "cell_type": "code",
   "execution_count": 161,
   "metadata": {},
   "outputs": [
    {
     "data": {
      "text/plain": [
       "[igraph.Vertex(<igraph.Graph object at 0x7fead8f715e0>, 1751, {'name': 'Skumryev V, 2003, NATURE, V423, P850, DOI 10.1038/nature01687', 'kind': 'root', 'sap': 46}),\n",
       " igraph.Vertex(<igraph.Graph object at 0x7fead8f715e0>, 1511, {'name': 'Ferrando R, 2008, CHEM REV, V108, P845, DOI 10.1021/cr040090g', 'kind': 'root', 'sap': 42})]"
      ]
     },
     "execution_count": 161,
     "metadata": {},
     "output_type": "execute_result"
    }
   ],
   "source": [
    "list(giant.vs[highest_indegree])[:2]"
   ]
  },
  {
   "cell_type": "markdown",
   "metadata": {},
   "source": [
    "## 4. Construction of set $V_{\\text{leaves}}$"
   ]
  },
  {
   "cell_type": "markdown",
   "metadata": {},
   "source": [
    "### 4.1 $V^{\\prime}$ vertices with indegree 0 are selected"
   ]
  },
  {
   "cell_type": "code",
   "execution_count": 162,
   "metadata": {},
   "outputs": [],
   "source": [
    "zero_indegree = giant.vs.select(lambda node: node.indegree() == 0).indices\n",
    "nodes_zero_indegree = giant.vs[zero_indegree]"
   ]
  },
  {
   "cell_type": "markdown",
   "metadata": {},
   "source": [
    "### 4.2 From the vertices in (4.1), those for which there are at least three paths between this and the set of roots are selected"
   ]
  },
  {
   "cell_type": "code",
   "execution_count": 163,
   "metadata": {},
   "outputs": [],
   "source": [
    "at_least_three_paths = []\n",
    "for index in zero_indegree:\n",
    "    paths = giant.get_all_simple_paths(index, roots)\n",
    "    num_paths = len(paths)\n",
    "    if num_paths >= 3:\n",
    "        at_least_three_paths.append(index)\n",
    "nodes_at_least_three_paths = giant.vs[at_least_three_paths]"
   ]
  },
  {
   "cell_type": "code",
   "execution_count": 164,
   "metadata": {},
   "outputs": [
    {
     "name": "stdout",
     "output_type": "stream",
     "text": [
      "zero indegree nodes = 146\n",
      "zero indegree nodes with at least 3 paths with roots = 73\n"
     ]
    }
   ],
   "source": [
    "print(\"zero indegree nodes =\", len(zero_indegree))\n",
    "print(\"zero indegree nodes with at least 3 paths with roots =\",\n",
    "      len(at_least_three_paths)\n",
    ")"
   ]
  },
  {
   "cell_type": "markdown",
   "metadata": {},
   "source": [
    "### 4.3 From the vertices in (4.2), those whose age (time sinze publication) do not exceed 5 years from the current year are selected"
   ]
  },
  {
   "cell_type": "code",
   "execution_count": 165,
   "metadata": {},
   "outputs": [],
   "source": [
    "def extract_year(label):\n",
    "    return int(label.split(\", \")[1])\n",
    "\n",
    "years = [extract_year(node[\"name\"]) for node in giant.vs]\n",
    "current_year = datetime.now().year\n",
    "ages = current_year - numpy.array(years)\n",
    "\n",
    "giant.vs[\"age\"] = ages"
   ]
  },
  {
   "cell_type": "markdown",
   "metadata": {},
   "source": [
    "### 4.4 $V_{\\text{leaf1}}$ is defines as the set of all vertices selected in (4.3)"
   ]
  },
  {
   "cell_type": "code",
   "execution_count": 166,
   "metadata": {},
   "outputs": [],
   "source": [
    "leaf_1 = giant.vs.select(\n",
    "    lambda node: node[\"age\"] <= 5 and node in nodes_at_least_three_paths\n",
    ")\n",
    "leaf_1[\"kind\"] = \"leaf_1\""
   ]
  },
  {
   "cell_type": "code",
   "execution_count": 167,
   "metadata": {},
   "outputs": [
    {
     "name": "stdout",
     "output_type": "stream",
     "text": [
      "54\n"
     ]
    }
   ],
   "source": [
    "print(len(leaf_1))"
   ]
  },
  {
   "cell_type": "markdown",
   "metadata": {},
   "source": [
    "### 4.5 If h belogs to $V_{\\text{leaf1}}$, its SAP is denoted as the number of paths that exists between h and the roots"
   ]
  },
  {
   "cell_type": "code",
   "execution_count": 168,
   "metadata": {},
   "outputs": [],
   "source": [
    "num_paths = []\n",
    "for node in leaf_1:\n",
    "    paths = giant.get_all_simple_paths(node, roots)\n",
    "    num_paths.append(len(paths))"
   ]
  },
  {
   "cell_type": "code",
   "execution_count": 169,
   "metadata": {},
   "outputs": [],
   "source": [
    "leaf_1[\"sap\"] = num_paths"
   ]
  },
  {
   "cell_type": "code",
   "execution_count": 170,
   "metadata": {},
   "outputs": [
    {
     "data": {
      "text/plain": [
       "igraph.Vertex(<igraph.Graph object at 0x7fead8f715e0>, 109, {'name': 'Lu XZ, 2016, CHINESE PHYS B, V25, DOI 10.1088/1674-1056/25/5/053601', 'kind': 'leaf_1', 'sap': 226, 'age': 4})"
      ]
     },
     "execution_count": 170,
     "metadata": {},
     "output_type": "execute_result"
    }
   ],
   "source": [
    "leaf_1[0]"
   ]
  },
  {
   "cell_type": "markdown",
   "metadata": {},
   "source": [
    "### 4.6 The vertices of the set $V^{\\prime} - \\left(V_{\\text{leaf1}} \\cup V_{\\text{root}}\\right)$ that are in the paths between the elements of $V_{\\text{root}}$ and $V_{\\text{leaf1}}$ with which it has a connection by one or more paths"
   ]
  },
  {
   "cell_type": "code",
   "execution_count": 171,
   "metadata": {},
   "outputs": [],
   "source": [
    "nodes_subset = set(giant.vs) - (set(leaf_1) | set(roots))"
   ]
  },
  {
   "cell_type": "code",
   "execution_count": 172,
   "metadata": {},
   "outputs": [
    {
     "data": {
      "text/plain": [
       "2346"
      ]
     },
     "execution_count": 172,
     "metadata": {},
     "output_type": "execute_result"
    }
   ],
   "source": [
    "len(nodes_subset)"
   ]
  },
  {
   "cell_type": "code",
   "execution_count": 173,
   "metadata": {},
   "outputs": [],
   "source": [
    "between_leaf1_and_root = set()\n",
    "for node in leaf_1:\n",
    "    paths = giant.get_all_simple_paths(node, roots)\n",
    "    between_leaf1_and_root.update(\n",
    "        set(chain.from_iterable(paths))\n",
    "    )"
   ]
  },
  {
   "cell_type": "code",
   "execution_count": 174,
   "metadata": {},
   "outputs": [],
   "source": [
    "nodes_subset = [node\n",
    "                for node in nodes_subset\n",
    "                if node.index in between_leaf1_and_root]"
   ]
  },
  {
   "cell_type": "code",
   "execution_count": 175,
   "metadata": {},
   "outputs": [
    {
     "data": {
      "text/plain": [
       "120"
      ]
     },
     "execution_count": 175,
     "metadata": {},
     "output_type": "execute_result"
    }
   ],
   "source": [
    "len(nodes_subset)"
   ]
  },
  {
   "cell_type": "markdown",
   "metadata": {},
   "source": [
    "### 4.8 From the vertices in (4.6), those whose age does not exceed five years from the current year are selected"
   ]
  },
  {
   "cell_type": "code",
   "execution_count": 176,
   "metadata": {},
   "outputs": [],
   "source": [
    "nodes_subset = [node\n",
    "                for node in nodes_subset\n",
    "                if node[\"age\"] <= 5]"
   ]
  },
  {
   "cell_type": "code",
   "execution_count": 179,
   "metadata": {},
   "outputs": [
    {
     "data": {
      "text/plain": [
       "41"
      ]
     },
     "execution_count": 179,
     "metadata": {},
     "output_type": "execute_result"
    }
   ],
   "source": [
    "len(nodes_subset)"
   ]
  },
  {
   "cell_type": "markdown",
   "metadata": {},
   "source": [
    "### 4.7 The sap of the vertices obtained in (4.6) are defined as the sum of the saps of the elements of $V_{\\text{root}}$ and $V_{\\text{leaf1}}$ with it has a connection by one of more paths"
   ]
  },
  {
   "cell_type": "code",
   "execution_count": 180,
   "metadata": {
    "collapsed": true,
    "jupyter": {
     "outputs_hidden": true
    }
   },
   "outputs": [
    {
     "name": "stdout",
     "output_type": "stream",
     "text": [
      "268\n",
      "5171\n",
      "1306\n",
      "16979\n",
      "1196\n",
      "861\n",
      "58703\n",
      "68710\n",
      "31599\n",
      "129\n",
      "14101\n",
      "2217\n",
      "55443\n",
      "8693\n",
      "2399\n",
      "19116\n",
      "6838\n",
      "136\n",
      "35670\n",
      "16333\n",
      "4883\n",
      "26580\n",
      "355\n",
      "74934\n",
      "37428\n",
      "50296\n",
      "1244\n",
      "20482\n",
      "1238\n",
      "355\n",
      "145\n",
      "1306\n",
      "7835\n",
      "5661\n",
      "1292\n",
      "31095\n",
      "45378\n",
      "16979\n",
      "28399\n",
      "321\n",
      "17783\n"
     ]
    }
   ],
   "source": [
    "# mucha fuerza bruta aquí, por ahora ...\n",
    "saps_subset = []\n",
    "for node_subset in nodes_subset:\n",
    "    to_sum_saps = set()\n",
    "    for node in leaf_1:\n",
    "        for root in roots:\n",
    "            paths = giant.get_all_simple_paths(node, root)\n",
    "            if node_subset.index in set(chain.from_iterable(paths)):\n",
    "                to_sum_saps.update([node, root])\n",
    "    sap = sum([node[\"sap\"] for node in to_sum_saps])\n",
    "    saps_subset.append(sap)\n",
    "    print(sap)"
   ]
  },
  {
   "cell_type": "markdown",
   "metadata": {},
   "source": [
    "### 4.9 Let $V_{\\text{leaf2}}$ be the set of all the vertices selected in (4.8)"
   ]
  },
  {
   "cell_type": "code",
   "execution_count": 185,
   "metadata": {},
   "outputs": [],
   "source": [
    "leaf_2 = giant.vs[[node.index for node in nodes_subset]]"
   ]
  },
  {
   "cell_type": "markdown",
   "metadata": {},
   "source": [
    "### 4.10 If $V \\in V_{\\text{leaf2}}$, its sap is defined by (4.7)"
   ]
  },
  {
   "cell_type": "code",
   "execution_count": 190,
   "metadata": {},
   "outputs": [],
   "source": [
    "leaf_2[\"sap\"] = saps_subset\n",
    "leaf_2[\"kind\"] = \"leaf_2\""
   ]
  },
  {
   "cell_type": "code",
   "execution_count": 191,
   "metadata": {},
   "outputs": [
    {
     "data": {
      "text/plain": [
       "igraph.Vertex(<igraph.Graph object at 0x7fead8f715e0>, 346, {'name': 'Shao GF, 2015, ACTA PHYS SIN-CH ED, V64, DOI 10.7498/aps.64.013602', 'kind': 'leaf_2', 'sap': 268, 'age': 5})"
      ]
     },
     "execution_count": 191,
     "metadata": {},
     "output_type": "execute_result"
    }
   ],
   "source": [
    "leaf_2[0]"
   ]
  },
  {
   "cell_type": "markdown",
   "metadata": {},
   "source": [
    "### 4.11 $V_{\\text{leaves}}$ is defined as the union between $V_{\\text{leaf1}}$ with $V_{\\text{leaf2}}$ and so, $V_{\\text{leaves}} = V_{\\text{leaf1}} \\cap V_{\\text{leaf2}}$"
   ]
  },
  {
   "cell_type": "code",
   "execution_count": 192,
   "metadata": {},
   "outputs": [],
   "source": [
    "leaves = giant.vs.select(lambda node: node[\"kind\"] in [\"leaf_1\", \"leaf_2\"])"
   ]
  },
  {
   "cell_type": "code",
   "execution_count": 193,
   "metadata": {},
   "outputs": [
    {
     "data": {
      "text/plain": [
       "95"
      ]
     },
     "execution_count": 193,
     "metadata": {},
     "output_type": "execute_result"
    }
   ],
   "source": [
    "len(leaves)"
   ]
  }
 ],
 "metadata": {
  "kernelspec": {
   "display_name": "Python 3",
   "language": "python",
   "name": "python3"
  },
  "language_info": {
   "codemirror_mode": {
    "name": "ipython",
    "version": 3
   },
   "file_extension": ".py",
   "mimetype": "text/x-python",
   "name": "python",
   "nbconvert_exporter": "python",
   "pygments_lexer": "ipython3",
   "version": "3.8.1"
  }
 },
 "nbformat": 4,
 "nbformat_minor": 4
}
